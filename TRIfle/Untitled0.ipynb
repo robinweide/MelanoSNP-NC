{
 "metadata": {
  "name": "",
  "signature": "sha256:30b30481173bcd2fb1ed73fb75f9a39374673e1d13501981cb45cf1fea70cd23"
 },
 "nbformat": 3,
 "nbformat_minor": 0,
 "worksheets": [
  {
   "cells": [
    {
     "cell_type": "code",
     "collapsed": false,
     "input": [
      "f = open()"
     ],
     "language": "python",
     "metadata": {},
     "outputs": []
    }
   ],
   "metadata": {}
  }
 ]
}